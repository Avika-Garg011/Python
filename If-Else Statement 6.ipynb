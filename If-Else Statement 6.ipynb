{
 "cells": [
  {
   "cell_type": "markdown",
   "id": "7e0fd814-b5e7-47e6-836d-cff6137f7198",
   "metadata": {},
   "source": [
    "### If-Else Statements in Python"
   ]
  },
  {
   "cell_type": "raw",
   "id": "5a69ed9c-02ce-40ae-a889-cc2e9665b693",
   "metadata": {},
   "source": [
    "1. Write a program to check if a number is positive, negative, or zero.\n",
    "o Input: A number from the user.\n",
    "o Output: Display whether the number is positive, negative, or zero."
   ]
  },
  {
   "cell_type": "code",
   "execution_count": 11,
   "id": "35b38c62-4606-4995-bfd0-5f2526def157",
   "metadata": {},
   "outputs": [
    {
     "name": "stdin",
     "output_type": "stream",
     "text": [
      "Enter a number :  -9\n"
     ]
    },
    {
     "name": "stdout",
     "output_type": "stream",
     "text": [
      "The number is Negative -9\n"
     ]
    }
   ],
   "source": [
    "num = int(input(\"Enter a number : \"))\n",
    "if num > 0:\n",
    "    print(\"The number is Positive\",num)\n",
    "elif num < 0:\n",
    "    print(\"The number is Negative\",num)\n",
    "else:\n",
    "    print(\"The number is Zero\",num)"
   ]
  },
  {
   "cell_type": "raw",
   "id": "406975c7-5ae2-41b4-9f34-a47d479b6822",
   "metadata": {},
   "source": [
    "2. Check if a given number is even or odd.\n",
    "o Input: A number from the user.\n",
    "o Output: Display whether the number is even or odd."
   ]
  },
  {
   "cell_type": "code",
   "execution_count": 15,
   "id": "482a3dd6-d446-42a7-a4d5-f1d3c407fc0c",
   "metadata": {},
   "outputs": [
    {
     "name": "stdin",
     "output_type": "stream",
     "text": [
      "Enter a number :  9\n"
     ]
    },
    {
     "name": "stdout",
     "output_type": "stream",
     "text": [
      "Odd Number 9\n"
     ]
    }
   ],
   "source": [
    "num1 = int(input(\"Enter a number : \"))\n",
    "if num1%2 == 0:\n",
    "    print(\"Even Number\",num1)\n",
    "else:\n",
    "    print(\"Odd Number\",num1)"
   ]
  },
  {
   "cell_type": "raw",
   "id": "85df11f8-4886-4557-bab6-b221d656630a",
   "metadata": {},
   "source": [
    "3. Determine whether a given year is a leap year or not.\n",
    "o Input: A year from the user.\n",
    "o Output: Display if the year is a leap year or not."
   ]
  },
  {
   "cell_type": "code",
   "execution_count": 33,
   "id": "3a9b18f1-bc2c-4806-8147-50f3d8219a29",
   "metadata": {},
   "outputs": [
    {
     "name": "stdin",
     "output_type": "stream",
     "text": [
      "Enter the year :  2024\n"
     ]
    },
    {
     "name": "stdout",
     "output_type": "stream",
     "text": [
      "Year is leap year\n"
     ]
    }
   ],
   "source": [
    "year = int(input(\"Enter the year : \"))\n",
    "if (year % 4 == 0 and year % 100 != 0) or (year % 100 == 0):\n",
    "    print(\"Year is leap year\")\n",
    "else:\n",
    "    print(\"Year is not leap year\")"
   ]
  },
  {
   "cell_type": "raw",
   "id": "c412a111-d83d-48d1-b9d2-13b569d1a9a3",
   "metadata": {},
   "source": [
    "4. Check if a character entered is a vowel or consonant.\n",
    "o Input: A character from the user.\n",
    "o Output: Display whether the character is a vowel or consonant"
   ]
  },
  {
   "cell_type": "code",
   "execution_count": 25,
   "id": "0546dd6e-6707-460a-a6ad-28dfb3cb44e1",
   "metadata": {},
   "outputs": [
    {
     "name": "stdin",
     "output_type": "stream",
     "text": [
      "Enter a character : u\n"
     ]
    },
    {
     "name": "stdout",
     "output_type": "stream",
     "text": [
      "u is a vowel.\n"
     ]
    }
   ],
   "source": [
    "char = input(\"Enter a character :\").lower()\n",
    "if len(char) == 1 and char.isalpha():\n",
    "    if char in 'aeiou':\n",
    "        print(f\"{char} is a vowel.\")\n",
    "    else:\n",
    "        print(f\"{char} is a consonant.\")\n",
    "else:\n",
    "    print(\"Enter single alphabet character.\")"
   ]
  },
  {
   "cell_type": "raw",
   "id": "547003fe-638d-4cad-b7e1-42bd2adf8ba3",
   "metadata": {},
   "source": [
    "5. Write a program to check if a person is eligible to vote (age ≥ 18).\n",
    "o Input: Age of the person.\n",
    "o Output: Display whether the person is eligible to vote or not."
   ]
  },
  {
   "cell_type": "code",
   "execution_count": 17,
   "id": "373cb24d-d5f3-45be-8e8f-7e05c2282200",
   "metadata": {},
   "outputs": [
    {
     "name": "stdin",
     "output_type": "stream",
     "text": [
      "Enter your age :  45\n"
     ]
    },
    {
     "name": "stdout",
     "output_type": "stream",
     "text": [
      "Person is eligible to vote 45\n"
     ]
    }
   ],
   "source": [
    "age = int(input(\"Enter your age : \"))\n",
    "if age >= 18 :\n",
    "    print(\"Person is eligible to vote\",age)\n",
    "else:\n",
    "    print(\"Person is not eligible to vote\",age)"
   ]
  },
  {
   "cell_type": "raw",
   "id": "69296bb1-0293-4b22-85e5-be84b334fb16",
   "metadata": {},
   "source": [
    "6. Determine the largest of two numbers entered by the user.\n",
    "o Input: Two numbers from the user.\n",
    "o Output: Display the largest number"
   ]
  },
  {
   "cell_type": "code",
   "execution_count": 3,
   "id": "0d08bf59-f7ad-4537-acb8-0081f4593fdb",
   "metadata": {},
   "outputs": [
    {
     "name": "stdin",
     "output_type": "stream",
     "text": [
      "Enter 1st number :  43\n",
      "Enter 2nd number :  23\n"
     ]
    },
    {
     "name": "stdout",
     "output_type": "stream",
     "text": [
      "Number 1 (43) is largest.\n"
     ]
    }
   ],
   "source": [
    "num1 = int(input(\"Enter 1st number : \"))\n",
    "num2 = int(input(\"Enter 2nd number : \"))\n",
    "if num1 == num2:\n",
    "    print(\"Both Numbers are equal\")\n",
    "elif num1 > num2:\n",
    "    print(f\"Number 1 ({num1}) is largest.\")\n",
    "else:\n",
    "    print(f\"Number 2 ({num2}) is largest.\")"
   ]
  },
  {
   "cell_type": "raw",
   "id": "e508cf42-3a09-401e-97a3-33e02e163fd8",
   "metadata": {},
   "source": [
    "7. Check whether a number is divisible by both 5 and 10.\n",
    "o Input: A number from the user.\n",
    "o Output: Display whether the number is divisible by both 5 and 10."
   ]
  },
  {
   "cell_type": "code",
   "execution_count": 9,
   "id": "9fca02fc-2f77-4da5-a391-190482261bcb",
   "metadata": {},
   "outputs": [
    {
     "name": "stdin",
     "output_type": "stream",
     "text": [
      "Enter a number :  45\n"
     ]
    },
    {
     "name": "stdout",
     "output_type": "stream",
     "text": [
      "Number 45 is divisible by only 5.\n"
     ]
    }
   ],
   "source": [
    "num = int(input(\"Enter a number : \"))\n",
    "if num % 5 == 0 and num % 10 == 0:\n",
    "    print(f\"Number {num} is divisible by both 5 and 10.\")\n",
    "elif num % 5 == 0:\n",
    "    print(f\"Number {num} is divisible by only 5.\")\n",
    "elif num % 10 == 0:\n",
    "    print(f\"Number {num} is divisible by only 10.\")   \n",
    "else:\n",
    "    print(f\"Number {num} is not divisible by both 5 and 10.\")"
   ]
  },
  {
   "cell_type": "raw",
   "id": "691aa075-8866-46ff-9757-5fcad8be2aff",
   "metadata": {},
   "source": [
    "8. Write a program to check if a number is a multiple of 3 or 7.\n",
    "o Input: A number from the user.\n",
    "o Output: Display whether the number is a multiple of 3 or 7"
   ]
  },
  {
   "cell_type": "code",
   "execution_count": 15,
   "id": "f502195a-9dfe-4062-983e-9c8fda560f48",
   "metadata": {},
   "outputs": [
    {
     "name": "stdin",
     "output_type": "stream",
     "text": [
      "Enter a number :  34\n"
     ]
    },
    {
     "name": "stdout",
     "output_type": "stream",
     "text": [
      "Number is not multiple of 3 or 7.\n"
     ]
    }
   ],
   "source": [
    "num = int(input(\"Enter a number : \"))\n",
    "if num % 3 == 0 or num % 7 == 0:\n",
    "    print(f\"Number is multiple of 3 or 7.\")\n",
    "else:\n",
    "    print(f\"Number is not multiple of 3 or 7.\")"
   ]
  },
  {
   "cell_type": "raw",
   "id": "403e9b36-74ad-4ee6-abe8-31ece46fe05d",
   "metadata": {},
   "source": [
    "9. Check if the input character is an uppercase or lowercase letter.\n",
    "o Input: A character from the user.\n",
    "o Output: Display whether the character is uppercase or lowercase."
   ]
  },
  {
   "cell_type": "code",
   "execution_count": 31,
   "id": "5445fe03-cf8a-4bf8-813f-884c84a33699",
   "metadata": {},
   "outputs": [
    {
     "name": "stdin",
     "output_type": "stream",
     "text": [
      "Enter a character :  AVIKA\n"
     ]
    },
    {
     "name": "stdout",
     "output_type": "stream",
     "text": [
      "avika is a lowercase letter.\n"
     ]
    }
   ],
   "source": [
    "char = input(\"Enter a character : \").lower()\n",
    "if char.isalpha():\n",
    "    if char.isupper():\n",
    "        print(f\"{char} is an uppercase letter.\")\n",
    "    else:\n",
    "        print(f\"{char} is a lowercase letter.\")\n",
    "else:\n",
    "    print(\"INVALID\")"
   ]
  },
  {
   "cell_type": "raw",
   "id": "4a15bb0a-3c7a-4e61-9554-20d1ebf6082c",
   "metadata": {},
   "source": [
    "10. Determine whether a given number is a single-digit number or not.\n",
    "o Input: A number from the user.\n",
    "o Output: Display whether the number is a single-digit number or not."
   ]
  },
  {
   "cell_type": "code",
   "execution_count": 35,
   "id": "e701e310-cebb-408b-a4ea-038bb4fe7d23",
   "metadata": {},
   "outputs": [
    {
     "name": "stdin",
     "output_type": "stream",
     "text": [
      "Enter a number : -8\n"
     ]
    },
    {
     "name": "stdout",
     "output_type": "stream",
     "text": [
      "-8 is a single-digit number.\n"
     ]
    }
   ],
   "source": [
    "num = int(input(\"Enter a number :\"))\n",
    "if -9 <= num <= 9:\n",
    "    print(f\"{num} is a single-digit number.\")\n",
    "else:\n",
    "    print(f\"{num} is not a single-digit number.\")"
   ]
  },
  {
   "cell_type": "raw",
   "id": "8f058dd5-4a8d-43d9-b880-2a845bcfc6cc",
   "metadata": {},
   "source": [
    "11. Check if three sides form a valid triangle (sum of two sides > the third side).\n",
    "o Input: Three sides of a triangle.\n",
    "o Output: Display whether the sides form a valid triangle."
   ]
  },
  {
   "cell_type": "code",
   "execution_count": 21,
   "id": "e8aef475-1db2-4101-85d1-5d3f8e5f209b",
   "metadata": {},
   "outputs": [
    {
     "name": "stdin",
     "output_type": "stream",
     "text": [
      "Enter 1st side of triangle :  8\n",
      "Enter 2nd side of triangle :  9\n",
      "Enter 3rd side of triangle :  6\n"
     ]
    },
    {
     "name": "stdout",
     "output_type": "stream",
     "text": [
      "The sides form a valid triangle.\n"
     ]
    }
   ],
   "source": [
    "a = int(input(\"Enter 1st side of triangle : \"))\n",
    "b = int(input(\"Enter 2nd side of triangle : \"))\n",
    "c = int(input(\"Enter 3rd side of triangle : \"))\n",
    "if(a + b > c ) and (b + c > a) and (c + a > b):\n",
    "    print(\"The sides form a valid triangle.\")\n",
    "else:\n",
    "    print(\"The sides do not form a valid triangle.\")"
   ]
  },
  {
   "cell_type": "raw",
   "id": "8687d331-5c3f-42ed-919a-9b429c894e8a",
   "metadata": {},
   "source": [
    "12. Write a program to find the largest of three numbers.\n",
    "o Input: Three numbers from the user.\n",
    "o Output: Display the largest number among the three."
   ]
  },
  {
   "cell_type": "code",
   "execution_count": 31,
   "id": "6dc46c2e-10c4-4813-b186-b46241975995",
   "metadata": {},
   "outputs": [
    {
     "name": "stdin",
     "output_type": "stream",
     "text": [
      "Enter 1st number :  6\n",
      "Enter 2nd number :  820\n",
      "Enter 3rd number :  450\n"
     ]
    },
    {
     "name": "stdout",
     "output_type": "stream",
     "text": [
      "B is largest\n"
     ]
    }
   ],
   "source": [
    "a = int(input(\"Enter 1st number : \"))\n",
    "b = int(input(\"Enter 2nd number : \"))\n",
    "c = int(input(\"Enter 3rd number : \"))\n",
    "if a == b == c:\n",
    "    print(\"Eqaul\")\n",
    "elif a > b and a > c:\n",
    "    print(\"A is largest\")\n",
    "elif b > a and b > c:\n",
    "    print(\"B is largest\")\n",
    "else:\n",
    "    print(\"C is largest\")"
   ]
  },
  {
   "cell_type": "raw",
   "id": "2e29cc2b-9f01-499e-890e-61ff02e73e68",
   "metadata": {},
   "source": [
    "13. Determine whether a character is an alphabet, a digit, or a special character.\n",
    "o Input: A character from the user.\n",
    "o Output: Display whether the character is an alphabet, a digit, or a special character."
   ]
  },
  {
   "cell_type": "code",
   "execution_count": 11,
   "id": "15e88e13-b420-4d51-a88f-9de9bda5783d",
   "metadata": {},
   "outputs": [
    {
     "name": "stdin",
     "output_type": "stream",
     "text": [
      "Enter a alphabet, digit or a special character :  56\n"
     ]
    },
    {
     "name": "stdout",
     "output_type": "stream",
     "text": [
      "56 is a digit.\n"
     ]
    }
   ],
   "source": [
    "char = input(\"Enter a alphabet, digit or a special character : \")\n",
    "if char.isalpha():\n",
    "    print(f\"{char} is alphabet.\")\n",
    "elif char.isdigit():\n",
    "    print(f\"{char} is a digit.\")\n",
    "else:\n",
    "    print(f\"{char} is a specail character.\")"
   ]
  },
  {
   "cell_type": "raw",
   "id": "4a2544f3-b02b-4273-b5af-2cd5775e85a9",
   "metadata": {},
   "source": [
    "14. Check whether a given number is a prime number.\n",
    "o Input: A number from the user.\n",
    "o Output: Display whether the number is prime or not."
   ]
  },
  {
   "cell_type": "code",
   "execution_count": null,
   "id": "6dd57a21-e682-41aa-a956-8c28a3f2d8c5",
   "metadata": {},
   "outputs": [],
   "source": []
  },
  {
   "cell_type": "raw",
   "id": "9af5925d-1145-4044-96bf-8fe2a19c7ec6",
   "metadata": {},
   "source": [
    "15. Write a program to calculate the grade based on marks:\n",
    "o Input: Marks of a student.\n",
    "o Output: Display the grade based on the following:\n",
    "▪ 90-100: A\n",
    "▪ 80-89: B\n",
    "▪ 70-79: C\n",
    "▪ 60-69: D\n",
    "▪ Below 60: F"
   ]
  },
  {
   "cell_type": "code",
   "execution_count": 17,
   "id": "083e4829-9947-4a91-bcf8-702f81639c88",
   "metadata": {},
   "outputs": [
    {
     "name": "stdin",
     "output_type": "stream",
     "text": [
      "Enter the grade of student :  89\n"
     ]
    },
    {
     "name": "stdout",
     "output_type": "stream",
     "text": [
      "Your grade 89 is B.\n"
     ]
    }
   ],
   "source": [
    "marks = int(input(\"Enter the grade of student : \"))\n",
    "if marks >= 90:\n",
    "    print(f\"Your grade {marks} is A.\")\n",
    "elif marks >= 80:\n",
    "    print(f\"Your grade {marks} is B.\")\n",
    "elif marks >= 70:\n",
    "    print(f\"Your grade {marks} is C.\")\n",
    "elif marks >= 60:\n",
    "    print(f\"Your grade {marks} is D.\")\n",
    "else:\n",
    "    print(f\"Your grade {marks} is F.\")"
   ]
  },
  {
   "cell_type": "raw",
   "id": "92cae7c5-0478-4130-890e-870a18628007",
   "metadata": {},
   "source": [
    "16. Write a program to check if a given temperature is hot (> 35°C), moderate (15°C to 35°C), or cold (< 15°C).\n",
    "o Input: Temperature value.\n",
    "o Output: Display whether the temperature is hot, moderate, or cold."
   ]
  },
  {
   "cell_type": "code",
   "execution_count": 9,
   "id": "a244663c-4ed3-4dae-b039-f512cc5dcfcd",
   "metadata": {},
   "outputs": [
    {
     "name": "stdin",
     "output_type": "stream",
     "text": [
      "Enter the temperature in Celsius :  35\n"
     ]
    },
    {
     "name": "stdout",
     "output_type": "stream",
     "text": [
      "Temperature 35°C is moderate.\n"
     ]
    }
   ],
   "source": [
    "temp = int(input(\"Enter the temperature in Celsius : \"))\n",
    "if temp > 35:\n",
    "    print(f\"Temperature {temp}°C is hot.\")\n",
    "elif temp >= 15 and temp <= 35:\n",
    "    print(f\"Temperature {temp}°C is moderate.\")\n",
    "else:\n",
    "    print(f\"Temperature {temp}°C is cold.\")"
   ]
  },
  {
   "cell_type": "raw",
   "id": "a9c9f699-39a6-4502-9642-f6c49404b51d",
   "metadata": {},
   "source": [
    "17. Determine whether a given number is a palindrome (reads the same backwardand forward).\n",
    "o Input: A number from the user.\n",
    "o Output: Display whether the number is a palindrome"
   ]
  },
  {
   "cell_type": "code",
   "execution_count": 2,
   "id": "2d21f367-ad34-4049-8a31-62f5930ecffb",
   "metadata": {},
   "outputs": [
    {
     "name": "stdin",
     "output_type": "stream",
     "text": [
      "check palindrome or not : Nitin\n"
     ]
    },
    {
     "name": "stdout",
     "output_type": "stream",
     "text": [
      "nitin\n",
      "palindrome\n"
     ]
    }
   ],
   "source": [
    "a = input(\"check palindrome or not :\").lower()\n",
    "b = a[::-1]\n",
    "print(b)\n",
    "if a == b:\n",
    "  print(\"palindrome\")\n",
    "else:\n",
    "  print(\"not palindrome\")"
   ]
  },
  {
   "cell_type": "raw",
   "id": "e913768b-e220-448e-8c47-cdc566b2eb6a",
   "metadata": {},
   "source": [
    "18. Write a program to check if a person is eligible for a senior citizen discount (age ≥ 60).\n",
    "o Input: Age of the person.\n",
    "o Output: Display whether the person is eligible for a senior citizen discount."
   ]
  },
  {
   "cell_type": "code",
   "execution_count": 55,
   "id": "e48de794-57f8-429e-b8c8-4a2a02486472",
   "metadata": {},
   "outputs": [
    {
     "name": "stdin",
     "output_type": "stream",
     "text": [
      "Enter the age of the user :  45\n"
     ]
    },
    {
     "name": "stdout",
     "output_type": "stream",
     "text": [
      "The person is not eligible for a senior citizen discount. \n"
     ]
    }
   ],
   "source": [
    "age = int(input(\"Enter the age of the user : \"))\n",
    "if age >= 60:\n",
    "    print(\"The person is eligible for a senior citizen discount. \")\n",
    "else:\n",
    "    print(\"The person is not eligible for a senior citizen discount. \")"
   ]
  },
  {
   "cell_type": "raw",
   "id": "c70283ae-12e5-4faf-84ce-20ffca058f48",
   "metadata": {},
   "source": [
    "19. Check if the sum of two given numbers is greater than 100.\n",
    "o Input: Two numbers from the user.\n",
    "o Output: Display whether the sum of the two numbers is greater than 100."
   ]
  },
  {
   "cell_type": "code",
   "execution_count": 47,
   "id": "f0218422-4c08-42f8-80c8-2ede769fcd04",
   "metadata": {},
   "outputs": [
    {
     "name": "stdin",
     "output_type": "stream",
     "text": [
      "Enter 1st number :  50\n",
      "Enter 2nd number :  49\n"
     ]
    },
    {
     "name": "stdout",
     "output_type": "stream",
     "text": [
      "Sum is less than 100\n"
     ]
    }
   ],
   "source": [
    "a = int(input(\"Enter 1st number : \"))\n",
    "b = int(input(\"Enter 2nd number : \"))\n",
    "sum = a+b\n",
    "if sum >= 100:\n",
    "    print(\"Sum is greater than 100\")\n",
    "else:\n",
    "    print(\"Sum is less than 100\")"
   ]
  },
  {
   "cell_type": "raw",
   "id": "6a52960e-dd16-4ee7-b197-4f0433110c47",
   "metadata": {},
   "source": [
    "20. Write a program to classify a given day of the week as a weekday or weekend.\n",
    "o Input: A day of the week.\n",
    "o Output: Display whether the day is a weekday or weekend."
   ]
  },
  {
   "cell_type": "code",
   "execution_count": 43,
   "id": "0b42e01b-d560-4f5e-9720-c2aaef69f981",
   "metadata": {},
   "outputs": [
    {
     "name": "stdin",
     "output_type": "stream",
     "text": [
      "Enter the day of the week :  MONDAY\n"
     ]
    },
    {
     "name": "stdout",
     "output_type": "stream",
     "text": [
      "The day is weekday\n"
     ]
    }
   ],
   "source": [
    "day = input(\"Enter the day of the week : \").lower()\n",
    "if day == \"saturday\" or day == \"sunday\":\n",
    "    print(\"The day is weekend\")\n",
    "else:\n",
    "    print(\"The day is weekday\")"
   ]
  }
 ],
 "metadata": {
  "kernelspec": {
   "display_name": "Python [conda env:base] *",
   "language": "python",
   "name": "conda-base-py"
  },
  "language_info": {
   "codemirror_mode": {
    "name": "ipython",
    "version": 3
   },
   "file_extension": ".py",
   "mimetype": "text/x-python",
   "name": "python",
   "nbconvert_exporter": "python",
   "pygments_lexer": "ipython3",
   "version": "3.12.7"
  }
 },
 "nbformat": 4,
 "nbformat_minor": 5
}
