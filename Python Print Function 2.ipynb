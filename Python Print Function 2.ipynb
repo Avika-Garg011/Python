{
 "cells": [
  {
   "cell_type": "markdown",
   "id": "31f39072-afeb-4d78-9aef-d042a205e0ec",
   "metadata": {},
   "source": [
    "### Python Print Function "
   ]
  },
  {
   "cell_type": "raw",
   "id": "8eb4f337-5fe1-49a9-bd8f-f40c443eb47d",
   "metadata": {},
   "source": [
    "1. Write a Python program to print \"This is my python class.\" using the print() function."
   ]
  },
  {
   "cell_type": "code",
   "execution_count": 2,
   "id": "f6d12653-1404-46d6-8de6-8a8f927cafb5",
   "metadata": {},
   "outputs": [
    {
     "name": "stdout",
     "output_type": "stream",
     "text": [
      "This is my python class.\n"
     ]
    }
   ],
   "source": [
    "print(\"This is my python class.\")"
   ]
  },
  {
   "cell_type": "raw",
   "id": "461045e7-f391-4864-918f-f12506f9a00c",
   "metadata": {},
   "source": [
    "2. Print your name using the print() function"
   ]
  },
  {
   "cell_type": "code",
   "execution_count": 4,
   "id": "f4d1055a-0c51-4349-9320-8f3c2f121369",
   "metadata": {},
   "outputs": [
    {
     "name": "stdout",
     "output_type": "stream",
     "text": [
      "Avika\n"
     ]
    }
   ],
   "source": [
    "print(\"Avika\")"
   ]
  },
  {
   "cell_type": "raw",
   "id": "ae6b6286-c887-485a-bb0c-ed70eee4a3bf",
   "metadata": {},
   "source": [
    "3. Print the numbers 1, 2, and 3 on separate lines using three print() statements."
   ]
  },
  {
   "cell_type": "code",
   "execution_count": 8,
   "id": "a583668d-2cc8-447c-8bd8-3a4d47f5d62a",
   "metadata": {},
   "outputs": [
    {
     "name": "stdout",
     "output_type": "stream",
     "text": [
      "1\n",
      "2\n",
      "3\n"
     ]
    }
   ],
   "source": [
    "print(1)\n",
    "print(2)\n",
    "print(3)"
   ]
  },
  {
   "cell_type": "raw",
   "id": "3539f805-ec38-4e9c-bed9-c930855dc336",
   "metadata": {},
   "source": [
    "4. Print \"Python is fun!\" three times using a single print() statement."
   ]
  },
  {
   "cell_type": "code",
   "execution_count": 12,
   "id": "cfa3d5e5-c36e-4af9-b506-02337073cf2a",
   "metadata": {},
   "outputs": [
    {
     "name": "stdout",
     "output_type": "stream",
     "text": [
      "Python is fun!\n",
      "Python is fun!\n",
      "Python is fun!\n"
     ]
    }
   ],
   "source": [
    "print(\"Python is fun!\\n\" \"Python is fun!\\n\" \"Python is fun!\")"
   ]
  },
  {
   "cell_type": "raw",
   "id": "1e0090ef-3bdc-42e1-badd-387a275d5201",
   "metadata": {},
   "source": [
    "5. Print \"I love coding!\" followed by \"Python is amazing!\" on the same line using a single print() statement."
   ]
  },
  {
   "cell_type": "code",
   "execution_count": 14,
   "id": "18ce235c-c284-4846-9a8c-7f3a7ecc0087",
   "metadata": {},
   "outputs": [
    {
     "name": "stdout",
     "output_type": "stream",
     "text": [
      "I love coding! Python is amazing!\n"
     ]
    }
   ],
   "source": [
    "print(\"I love coding!\", \"Python is amazing!\")"
   ]
  },
  {
   "cell_type": "raw",
   "id": "13f8ebfe-8538-45f2-9bb4-48c90c9960e6",
   "metadata": {},
   "source": [
    "6. Print your favorite quote inside double quotes"
   ]
  },
  {
   "cell_type": "code",
   "execution_count": 28,
   "id": "e1756795-8ab2-4f0e-a8a2-37c71f2de166",
   "metadata": {},
   "outputs": [
    {
     "name": "stdout",
     "output_type": "stream",
     "text": [
      "Trust your struggle!!!\n"
     ]
    }
   ],
   "source": [
    "print (\"Trust your struggle!!!\")"
   ]
  },
  {
   "cell_type": "raw",
   "id": "6d17a620-cb00-4209-ade6-f76650a4ee02",
   "metadata": {},
   "source": [
    "7. Print your number and name in a single print() statement with a comma separating them. "
   ]
  },
  {
   "cell_type": "code",
   "execution_count": 30,
   "id": "1521ff92-b570-4354-9dc2-a572a83a128e",
   "metadata": {},
   "outputs": [
    {
     "name": "stdout",
     "output_type": "stream",
     "text": [
      "Name : Avika Garg Number: 1234567\n"
     ]
    }
   ],
   "source": [
    "print (\"Name :\" , \"Avika Garg\" , \"Number:\" , int(1234567))"
   ]
  },
  {
   "cell_type": "raw",
   "id": "261011e3-7475-40b4-828b-3d1f3b912395",
   "metadata": {},
   "source": [
    "8. Print your city and country in a single print() statement using string concatenation (+)."
   ]
  },
  {
   "cell_type": "code",
   "execution_count": 26,
   "id": "5d0f7b82-37e2-40d1-9139-a2e28cd59919",
   "metadata": {},
   "outputs": [
    {
     "name": "stdout",
     "output_type": "stream",
     "text": [
      "City:Meerut Country:India\n"
     ]
    }
   ],
   "source": [
    "print(\"City:\" + \"Meerut\" +\" \" + \"Country:\" + \"India\")"
   ]
  },
  {
   "cell_type": "raw",
   "id": "ee7132bf-1e3c-46fc-91c6-17e14584d826",
   "metadata": {},
   "source": [
    "9. Print the result of 5 + 3 using print()."
   ]
  },
  {
   "cell_type": "code",
   "execution_count": 32,
   "id": "83fc54e9-4528-45bb-a8e2-663c7b3045de",
   "metadata": {},
   "outputs": [
    {
     "name": "stdout",
     "output_type": "stream",
     "text": [
      "8\n"
     ]
    }
   ],
   "source": [
    "print(5+3)"
   ]
  },
  {
   "cell_type": "raw",
   "id": "c81343a8-2efc-431a-b31d-0f31b1b624f5",
   "metadata": {},
   "source": [
    "10. Print the result of 10 * 5 inside a sentence like: \"The result of 10 multiplied by 5 is ...\""
   ]
  },
  {
   "cell_type": "code",
   "execution_count": 12,
   "id": "1e2b7e01-0fa8-4e73-9c4d-b4de3c275843",
   "metadata": {},
   "outputs": [
    {
     "name": "stdout",
     "output_type": "stream",
     "text": [
      "The result of 10 multiplied by 5 is 50\n"
     ]
    }
   ],
   "source": [
    "print(\"The result of 10 multiplied by 5 is\",(10*5))"
   ]
  },
  {
   "cell_type": "raw",
   "id": "fc53cb90-b1d5-40e2-953d-2a73d979d543",
   "metadata": {},
   "source": [
    "11. Print a string that contains both single and double quotes: \"I'm learning \"Python\" programming!\"."
   ]
  },
  {
   "cell_type": "code",
   "execution_count": 64,
   "id": "fc4e381c-b02d-4bd0-993f-abf6459079fa",
   "metadata": {},
   "outputs": [
    {
     "name": "stdout",
     "output_type": "stream",
     "text": [
      "I'm learning \"Python\" programming!\n",
      "I'm learning \"Python\" programming!\n"
     ]
    }
   ],
   "source": [
    "print(\"I'm learning \\\"Python\\\" programming!\")            # \\\" its used to escape double quotes \n",
    "print(\"\"\"I'm learning \"Python\" programming!\"\"\")          # we can use triple quotes "
   ]
  },
  {
   "cell_type": "raw",
   "id": "990cc3cc-f34d-4cf2-8ea1-f3a135bb2a3a",
   "metadata": {},
   "source": [
    "12. Print the following shape using multiple print() statements:\n",
    "*\n",
    "**\n",
    "***\n",
    "****"
   ]
  },
  {
   "cell_type": "code",
   "execution_count": 40,
   "id": "0337c747-3ebc-4fe4-a851-5d58cbfe9423",
   "metadata": {},
   "outputs": [
    {
     "name": "stdout",
     "output_type": "stream",
     "text": [
      "*\n",
      "**\n",
      "***\n",
      "****\n"
     ]
    }
   ],
   "source": [
    "print(\"*\")\n",
    "print(\"**\")\n",
    "print(\"***\")\n",
    "print(\"****\")"
   ]
  },
  {
   "cell_type": "raw",
   "id": "a32f5049-f229-4bd7-82ad-27c73588c0a7",
   "metadata": {},
   "source": [
    "13. Print the words \"Python\" and \"Programming\" on the same line with a space between them."
   ]
  },
  {
   "cell_type": "code",
   "execution_count": 48,
   "id": "3417f5e4-443c-44bd-abfe-084b792735d7",
   "metadata": {},
   "outputs": [
    {
     "name": "stdout",
     "output_type": "stream",
     "text": [
      "Python Programming\n",
      "Python Programming\n"
     ]
    }
   ],
   "source": [
    "print(\"Python\",\"Programming\")               # With , \n",
    "print(\"Python\" + \" \" + \"Programming\")       # With +"
   ]
  },
  {
   "cell_type": "raw",
   "id": "34a671e9-11ed-4a9a-8378-3fad3832e7f9",
   "metadata": {},
   "source": [
    "14.  Print \"This is line 1.\\nThis is line 2.\" using a single print() statement."
   ]
  },
  {
   "cell_type": "code",
   "execution_count": 50,
   "id": "53d7cece-215c-49a7-8077-d4c3f683458c",
   "metadata": {},
   "outputs": [
    {
     "name": "stdout",
     "output_type": "stream",
     "text": [
      "This is line 1.\n",
      "This is line 2.\n"
     ]
    }
   ],
   "source": [
    "print(\"This is line 1.\\nThis is line 2.\")   # \\n is for next line "
   ]
  },
  {
   "cell_type": "raw",
   "id": "de2abe35-8657-48be-beb2-e744ef7b4c70",
   "metadata": {},
   "source": [
    "15. Print \"Hello\" and \"World\" on the same line, separated by a tab space."
   ]
  },
  {
   "cell_type": "code",
   "execution_count": 54,
   "id": "e3d6fe58-6043-4ace-9746-c96a3acc6828",
   "metadata": {},
   "outputs": [
    {
     "name": "stdout",
     "output_type": "stream",
     "text": [
      "Hello\tWorld\n"
     ]
    }
   ],
   "source": [
    "print(\"Hello\\tWorld\")                       # \\t for tab space"
   ]
  },
  {
   "cell_type": "raw",
   "id": "55251c54-176a-4b24-bf38-211f04b120b6",
   "metadata": {},
   "source": [
    "16. Print a string that includes a backslash (\\) character."
   ]
  },
  {
   "cell_type": "code",
   "execution_count": 56,
   "id": "65d00a43-f27d-4bc6-9a6f-19401227c747",
   "metadata": {},
   "outputs": [
    {
     "name": "stdout",
     "output_type": "stream",
     "text": [
      "This is a backslash : \\\n"
     ]
    }
   ],
   "source": [
    "print(\"This is a backslash : \\\\\")          # \\ Escape character"
   ]
  },
  {
   "cell_type": "raw",
   "id": "7646bd94-023a-439a-99a0-63e155bf6737",
   "metadata": {},
   "source": [
    "17. Print the numbers 1 to 5 separated by commas using a single print() statement."
   ]
  },
  {
   "cell_type": "code",
   "execution_count": 58,
   "id": "5a5cd1ee-a5a4-4894-b0e1-25e79f871412",
   "metadata": {},
   "outputs": [
    {
     "name": "stdout",
     "output_type": "stream",
     "text": [
      "1 2 3 4 5\n"
     ]
    }
   ],
   "source": [
    "print(1,2,3,4,5)"
   ]
  },
  {
   "cell_type": "raw",
   "id": "4d91f7e9-590d-428b-ae12-b243e3e8d261",
   "metadata": {},
   "source": [
    "18. Print the phrase \"Learning Python is easy!\" using triple quotes."
   ]
  },
  {
   "cell_type": "code",
   "execution_count": 62,
   "id": "0b80bffa-8360-497a-96bb-b55a1b849c17",
   "metadata": {},
   "outputs": [
    {
     "name": "stdout",
     "output_type": "stream",
     "text": [
      "Learning Python is easy!\n"
     ]
    }
   ],
   "source": [
    "print(\"\"\"Learning Python is easy!\"\"\")"
   ]
  },
  {
   "cell_type": "raw",
   "id": "0dd31801-9cf6-4728-bf76-6b2a32337e16",
   "metadata": {},
   "source": [
    "19. Print your name five times in a single print() statement, separated by spaces."
   ]
  },
  {
   "cell_type": "code",
   "execution_count": 66,
   "id": "36970219-d799-448f-9a67-75dff969f5df",
   "metadata": {},
   "outputs": [
    {
     "name": "stdout",
     "output_type": "stream",
     "text": [
      "Avika Avika Avika Avika Avika\n"
     ]
    }
   ],
   "source": [
    "print(\"Avika Avika Avika Avika Avika\")"
   ]
  },
  {
   "cell_type": "raw",
   "id": "9787bde2-928d-4927-85d7-4922603f7b86",
   "metadata": {},
   "source": [
    "20. Print your birth month and favorite color in a single print statement with a space between them."
   ]
  },
  {
   "cell_type": "code",
   "execution_count": 70,
   "id": "241bd6ce-b01b-4296-a543-251e4ccd237b",
   "metadata": {},
   "outputs": [
    {
     "name": "stdout",
     "output_type": "stream",
     "text": [
      "January Black\n"
     ]
    }
   ],
   "source": [
    "print(\"January Black\")"
   ]
  },
  {
   "cell_type": "raw",
   "id": "fc79d831-57f0-4d37-a353-ced48928a00d",
   "metadata": {},
   "source": [
    "21. Use print() to print a multi-line address, each line on a separate line"
   ]
  },
  {
   "cell_type": "code",
   "execution_count": 72,
   "id": "ab49b9a3-77d1-4f80-9c9d-72fe60acc85e",
   "metadata": {},
   "outputs": [
    {
     "name": "stdout",
     "output_type": "stream",
     "text": [
      "hi avika \n",
      "Meerut \n",
      "India \n"
     ]
    }
   ],
   "source": [
    "print (\"\"\"hi avika \n",
    "Meerut \n",
    "India \"\"\")"
   ]
  },
  {
   "cell_type": "raw",
   "id": "b4ccbf81-b991-4f57-889d-8ed23f3c3b48",
   "metadata": {},
   "source": [
    "22. Print a string using escape characters to include a newline, tab, and a backslash (\\n, \\t)"
   ]
  },
  {
   "cell_type": "code",
   "execution_count": 76,
   "id": "1062460f-2e83-4bcf-a15b-4051507e4725",
   "metadata": {},
   "outputs": [
    {
     "name": "stdout",
     "output_type": "stream",
     "text": [
      "Hello \"Avika\" this side.\n",
      "\tCurrently learning Python!!!\n"
     ]
    }
   ],
   "source": [
    "print(\"Hello \\\"Avika\\\" this side.\\n\\tCurrently learning Python!!!\")"
   ]
  },
  {
   "cell_type": "raw",
   "id": "a78f9e1a-a562-4ac7-be1c-fbcad5ccd0ab",
   "metadata": {},
   "source": [
    "23. Print the phrase \"My favorite number is 42\" with 42 being a variable (use f-string)"
   ]
  },
  {
   "cell_type": "code",
   "execution_count": 82,
   "id": "68acd852-d4ae-47c8-8536-208d6c09f02d",
   "metadata": {},
   "outputs": [
    {
     "name": "stdout",
     "output_type": "stream",
     "text": [
      "My favorite number is 42.\n"
     ]
    }
   ],
   "source": [
    "number =  42\n",
    "print(f\"My favorite number is {number}.\")"
   ]
  },
  {
   "cell_type": "raw",
   "id": "ded6a6ca-7707-43a2-b403-e96d48603200",
   "metadata": {},
   "source": [
    "24. Print the numbers 1 to 10 in a single print statement, each number separated by a space, using a loop."
   ]
  },
  {
   "cell_type": "code",
   "execution_count": 3,
   "id": "3d949cbd-f1fd-42a0-9894-9d12cc6fe5fe",
   "metadata": {},
   "outputs": [
    {
     "name": "stdout",
     "output_type": "stream",
     "text": [
      "1 2 3 4 5 6 7 8 9 10 "
     ]
    }
   ],
   "source": [
    "for i in range(1, 11):\n",
    "    print(i, end=\" \")"
   ]
  },
  {
   "cell_type": "raw",
   "id": "a2a3c8ce-72f5-44ed-b796-fa5c9c1e49f8",
   "metadata": {},
   "source": [
    "25. Print a simple mathematical equation inside a sentence, such as \"The sum of 8 and 6 is 14.\""
   ]
  },
  {
   "cell_type": "code",
   "execution_count": 88,
   "id": "f07d2a7f-d597-45af-afdb-ff824186873a",
   "metadata": {},
   "outputs": [
    {
     "name": "stdout",
     "output_type": "stream",
     "text": [
      "The sum of 8 and 6 is 14.\n"
     ]
    }
   ],
   "source": [
    "a = 8\n",
    "b = 6\n",
    "sum = a+b\n",
    "print(f\"The sum of {a} and {b} is {sum}.\")"
   ]
  },
  {
   "cell_type": "raw",
   "id": "2c2f441f-e5f1-427b-955e-0e182c7c021f",
   "metadata": {},
   "source": [
    "26. Print the phrase using a single print() statement.\n",
    "\"This\n",
    "Is\n",
    "A\n",
    "multi-line\n",
    "string\""
   ]
  },
  {
   "cell_type": "code",
   "execution_count": 96,
   "id": "b142191e-0412-4ad8-9721-d0a5892d5617",
   "metadata": {},
   "outputs": [
    {
     "name": "stdout",
     "output_type": "stream",
     "text": [
      "This\n",
      "Is\n",
      "A\n",
      "multi-line\n",
      "string.\n"
     ]
    }
   ],
   "source": [
    "print(\"\"\"This\n",
    "Is\n",
    "A\n",
    "multi-line\n",
    "string.\"\"\")"
   ]
  },
  {
   "cell_type": "raw",
   "id": "ded25bd2-485a-42ae-8324-ad3523fa2a09",
   "metadata": {},
   "source": [
    "27. Use a print statement to print a string with different letter cases (lowercase, uppercase, title case)."
   ]
  },
  {
   "cell_type": "code",
   "execution_count": 102,
   "id": "5076add8-bcfc-46cb-980f-fbb8f44df573",
   "metadata": {},
   "outputs": [
    {
     "name": "stdout",
     "output_type": "stream",
     "text": [
      "hello india\n",
      "HELLO INDIA\n",
      "Hello India\n"
     ]
    }
   ],
   "source": [
    "text = \"Hello India\"\n",
    "\n",
    "print(text.lower())\n",
    "print(text.upper())\n",
    "print(text.title())"
   ]
  },
  {
   "cell_type": "raw",
   "id": "015c3069-d12f-4b5c-b8ec-942af85d5591",
   "metadata": {},
   "source": [
    "28. Print a sentence where part of the sentence is on the next line, like\n",
    "\"This is the first line\n",
    "And this is the second line.\""
   ]
  },
  {
   "cell_type": "code",
   "execution_count": 104,
   "id": "a139d508-704a-4722-95d1-6fdc38ee38d7",
   "metadata": {},
   "outputs": [
    {
     "name": "stdout",
     "output_type": "stream",
     "text": [
      "This is the first line\n",
      "And this is the second line.\n"
     ]
    }
   ],
   "source": [
    "print(\"This is the first line\\nAnd this is the second line.\")"
   ]
  }
 ],
 "metadata": {
  "kernelspec": {
   "display_name": "Python [conda env:base] *",
   "language": "python",
   "name": "conda-base-py"
  },
  "language_info": {
   "codemirror_mode": {
    "name": "ipython",
    "version": 3
   },
   "file_extension": ".py",
   "mimetype": "text/x-python",
   "name": "python",
   "nbconvert_exporter": "python",
   "pygments_lexer": "ipython3",
   "version": "3.12.7"
  }
 },
 "nbformat": 4,
 "nbformat_minor": 5
}
