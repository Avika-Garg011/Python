{
 "cells": [
  {
   "cell_type": "code",
   "execution_count": null,
   "id": "a67f4360-8753-4e8e-b2d7-6b7852e7b257",
   "metadata": {},
   "outputs": [],
   "source": []
  }
 ],
 "metadata": {
  "kernelspec": {
   "display_name": "",
   "name": ""
  },
  "language_info": {
   "name": ""
  }
 },
 "nbformat": 4,
 "nbformat_minor": 5
}
