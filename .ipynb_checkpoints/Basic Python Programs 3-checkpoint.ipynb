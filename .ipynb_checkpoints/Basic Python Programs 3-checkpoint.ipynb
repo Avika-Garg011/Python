{
 "cells": [
  {
   "cell_type": "markdown",
   "id": "bcb0ddb0-1802-4589-9260-209bacca842b",
   "metadata": {},
   "source": [
    "### Basic Python Programs"
   ]
  },
  {
   "cell_type": "raw",
   "id": "249d3efa-e8a6-44d7-a393-787278d7a363",
   "metadata": {},
   "source": [
    "1. Write a program to take a user's name and greet them with \"Hello, [Name]!\"\n",
    "o Input: User's name.\n",
    "o Output: \"Hello, [Name]!\""
   ]
  },
  {
   "cell_type": "code",
   "execution_count": 6,
   "id": "340946bb-1e0f-4feb-b06c-54903f2b270a",
   "metadata": {},
   "outputs": [
    {
     "name": "stdin",
     "output_type": "stream",
     "text": [
      "Enter your name :  Avika Garg\n"
     ]
    },
    {
     "name": "stdout",
     "output_type": "stream",
     "text": [
      "Hello, Avika Garg!\n"
     ]
    }
   ],
   "source": [
    "name = input(\"Enter your name : \")\n",
    "print(f\"Hello, {name}!\")"
   ]
  },
  {
   "cell_type": "raw",
   "id": "8c58918d-8f5b-4197-b753-147ff403ea8a",
   "metadata": {},
   "source": [
    "2. Create a program that asks the user for two numbers and prints their sum.\n",
    "o Input: Two numbers.\n",
    "o Output: Sum of the numbers"
   ]
  },
  {
   "cell_type": "code",
   "execution_count": 16,
   "id": "3b22e483-e1c8-4bd4-94aa-78f252571976",
   "metadata": {},
   "outputs": [
    {
     "name": "stdin",
     "output_type": "stream",
     "text": [
      "Enter first number :  5\n",
      "Enter second number :  4\n"
     ]
    },
    {
     "name": "stdout",
     "output_type": "stream",
     "text": [
      "The sum of 2 numbers is 9.\n"
     ]
    }
   ],
   "source": [
    "a = int(input(\"Enter first number : \"))\n",
    "b = int(input(\"Enter second number : \"))\n",
    "sum=(a+b)\n",
    "print(f\"The sum of 2 numbers is {sum}.\")"
   ]
  },
  {
   "cell_type": "raw",
   "id": "b8e0b309-ee74-48e5-ac39-44336b8b7abc",
   "metadata": {},
   "source": [
    "3. Write a Python program that takes the radius of a circle from the user and calculates its area.\n",
    "o Input: Radius of the circle.\n",
    "o Output: Area of the circle (Area = π * radius^2)"
   ]
  },
  {
   "cell_type": "code",
   "execution_count": 23,
   "id": "342bab48-5812-4eb8-9868-0b7761f574d7",
   "metadata": {},
   "outputs": [
    {
     "name": "stdin",
     "output_type": "stream",
     "text": [
      "Enter radius of the circle :  2\n"
     ]
    },
    {
     "name": "stdout",
     "output_type": "stream",
     "text": [
      "The area of circle is 12.56\n"
     ]
    }
   ],
   "source": [
    "radius = int(input(\"Enter radius of the circle : \"))\n",
    "Area = 3.14 * (radius ** 2)                              # ** exponentional \n",
    "print(f\"The area of circle is {Area}\")"
   ]
  },
  {
   "cell_type": "raw",
   "id": "44e9caaf-45ee-4e5a-b415-6e51d2e9afc8",
   "metadata": {},
   "source": [
    "4. Develop a program that asks for the user's age and tells them how many years are left until they turn 100.\n",
    "o Input: User's age.\n",
    "o Output: Years left to reach 100"
   ]
  },
  {
   "cell_type": "code",
   "execution_count": 29,
   "id": "9a79e4d7-3c20-4671-adea-a6c751f3cae7",
   "metadata": {},
   "outputs": [
    {
     "name": "stdin",
     "output_type": "stream",
     "text": [
      "Enter user's age :  45\n"
     ]
    },
    {
     "name": "stdout",
     "output_type": "stream",
     "text": [
      "The years left to become 100 is 55.\n"
     ]
    }
   ],
   "source": [
    "age = int(input(\"Enter user's age : \"))\n",
    "year = 100-age\n",
    "print(f\"The years left to become 100 is {year}.\")"
   ]
  },
  {
   "cell_type": "raw",
   "id": "8ac5aa99-9e51-419b-9e38-a29f2aaa011a",
   "metadata": {},
   "source": [
    "5. Take three integers from the user and calculate their average.\n",
    "o Input: Three integers.\n",
    "o Output: Average of the three numbers."
   ]
  },
  {
   "cell_type": "code",
   "execution_count": 15,
   "id": "b2cb025f-680f-4ab5-93f6-0ba1e1b5b7a7",
   "metadata": {},
   "outputs": [
    {
     "name": "stdin",
     "output_type": "stream",
     "text": [
      "Enter 1st number :  2\n",
      "Enter 2nd number :  4\n",
      "Enter 3rd number :  6\n"
     ]
    },
    {
     "name": "stdout",
     "output_type": "stream",
     "text": [
      "The average of integers is 4.0.\n"
     ]
    }
   ],
   "source": [
    "a = int(input(\"Enter 1st number : \"))\n",
    "b = int(input(\"Enter 2nd number : \"))\n",
    "c = int(input(\"Enter 3rd number : \"))\n",
    "Average = (a+b+c)/3\n",
    "print(f\"The average of integers is {Average}.\")"
   ]
  },
  {
   "cell_type": "raw",
   "id": "1824e99a-f8a0-465a-82c7-fec35964cc99",
   "metadata": {},
   "source": [
    "6. Write a program to ask the user for the length and width of a rectangle and calculate its area and perimeter.\n",
    "o Input: Length and width of the rectangle.\n",
    "o Output: Area and perimeter of the rectangle"
   ]
  },
  {
   "cell_type": "code",
   "execution_count": 33,
   "id": "84bda25b-5aa3-4898-ad2e-04ba47dbcb8a",
   "metadata": {},
   "outputs": [
    {
     "name": "stdin",
     "output_type": "stream",
     "text": [
      "Enter the length :  5\n",
      "Enter the width :  6\n"
     ]
    },
    {
     "name": "stdout",
     "output_type": "stream",
     "text": [
      "The area : 30 and perimeter : 22 of rectangle.\n"
     ]
    }
   ],
   "source": [
    "length = int(input(\"Enter the length : \"))\n",
    "width = int(input(\"Enter the width : \"))\n",
    "area = length * width\n",
    "perimeter = 2 * (length + width)\n",
    "print(f\"The area : {area} and perimeter : {perimeter} of rectangle.\")"
   ]
  },
  {
   "cell_type": "raw",
   "id": "f3a4efa5-80c7-4035-8b44-c7dd533c75ad",
   "metadata": {},
   "source": [
    "7. Ask the user to enter their first and last name separately and then print their full name.\n",
    "o Input: First and last name.\n",
    "o Output: Full name."
   ]
  },
  {
   "cell_type": "code",
   "execution_count": 41,
   "id": "49705449-8eba-4960-9713-5249b4aebef5",
   "metadata": {},
   "outputs": [
    {
     "name": "stdin",
     "output_type": "stream",
     "text": [
      "Enter first name  Avika \n",
      "Enter last name  Garg\n"
     ]
    },
    {
     "name": "stdout",
     "output_type": "stream",
     "text": [
      "The full name of user is Avika Garg.\n"
     ]
    }
   ],
   "source": [
    "first_name = input(\"Enter first name \")\n",
    "last_name = input(\"Enter last name \")\n",
    "full_name = first_name + last_name\n",
    "print(f\"The full name of user is {full_name}.\")"
   ]
  },
  {
   "cell_type": "raw",
   "id": "3d2127e8-379c-43b1-b051-4246f6b952c0",
   "metadata": {},
   "source": [
    "8. Create a program that asks the user to input a number and determines if it is even or odd.\n",
    "o Input: A number.\n",
    "o Output: \"Even\" or \"Odd.\""
   ]
  },
  {
   "cell_type": "code",
   "execution_count": 1,
   "id": "c65a01aa-fe3c-4ad9-96bb-b0262c8ed45f",
   "metadata": {},
   "outputs": [
    {
     "name": "stdin",
     "output_type": "stream",
     "text": [
      "Enter a number :  7\n"
     ]
    },
    {
     "name": "stdout",
     "output_type": "stream",
     "text": [
      "Odd Number\n"
     ]
    }
   ],
   "source": [
    "number = int(input(\"Enter a number : \"))\n",
    "if number%2 == 0:\n",
    "    print(\"Even Number\")\n",
    "else:\n",
    "    print(\"Odd Number\")"
   ]
  },
  {
   "cell_type": "raw",
   "id": "34ced9da-77d3-439d-91db-fddb00533b3c",
   "metadata": {},
   "source": [
    "9. Take the user's birth year and calculate their age in the current year.\n",
    "o Input: User's birth year.\n",
    "o Output: User's age."
   ]
  },
  {
   "cell_type": "code",
   "execution_count": 15,
   "id": "0051804b-4450-4c67-96a5-45d964a14c6a",
   "metadata": {},
   "outputs": [
    {
     "name": "stdin",
     "output_type": "stream",
     "text": [
      "Enter user's birth year :  2000\n"
     ]
    },
    {
     "name": "stdout",
     "output_type": "stream",
     "text": [
      "The current age of user is 25.\n"
     ]
    }
   ],
   "source": [
    "birth_year = int(input(\"Enter user's birth year : \"))\n",
    "current_year = 2025\n",
    "age =  current_year - birth_year\n",
    "print(f\"The current age of user is {age}.\")"
   ]
  },
  {
   "cell_type": "raw",
   "id": "6922467d-404f-4473-98e2-4b09093cbc8e",
   "metadata": {},
   "source": [
    "10. Write a Python program to take two numbers from the user and swap their values.\n",
    "o Input: Two numbers.\n",
    "o Output: The numbers swapped."
   ]
  },
  {
   "cell_type": "code",
   "execution_count": 3,
   "id": "8089c337-abee-4c43-990b-fafe5c1a090b",
   "metadata": {},
   "outputs": [
    {
     "name": "stdin",
     "output_type": "stream",
     "text": [
      "Enter 1st Number :  5\n",
      "Enter 2nd Number :  10\n"
     ]
    },
    {
     "name": "stdout",
     "output_type": "stream",
     "text": [
      "A =  10\n",
      "B =  5\n"
     ]
    }
   ],
   "source": [
    "a = int(input(\"Enter 1st Number : \"))\n",
    "b = int(input(\"Enter 2nd Number : \"))\n",
    "c = a\n",
    "a = b\n",
    "b = c\n",
    "print(\"A = \",a)\n",
    "print(\"B = \",b)"
   ]
  },
  {
   "cell_type": "raw",
   "id": "e0884957-6827-4603-9498-a50f31076024",
   "metadata": {},
   "source": [
    "11. Create a program that asks for the user's weight in kilograms and height in meters, then calculates their Body Mass Index (BMI).\n",
    "o Input: Weight (kg) and height (m).\n",
    "o Output: BMI (BMI = weight / height^2)."
   ]
  },
  {
   "cell_type": "code",
   "execution_count": 27,
   "id": "860a8da5-4774-4cc0-9bae-76505a3847f0",
   "metadata": {},
   "outputs": [
    {
     "name": "stdin",
     "output_type": "stream",
     "text": [
      "Enter user's weight in kg :  63\n",
      "Enter user's height in m :  1.70\n"
     ]
    },
    {
     "name": "stdout",
     "output_type": "stream",
     "text": [
      "The BMI of user is 21.79930795847751.\n"
     ]
    }
   ],
   "source": [
    "weight = float(input(\"Enter user's weight in kg : \"))\n",
    "height = float(input(\"Enter user's height in m : \"))\n",
    "BMI = weight / height**2\n",
    "print(f\"The BMI of user is {BMI}.\")                                       # how to make it in 2 decimal place "
   ]
  },
  {
   "cell_type": "raw",
   "id": "5d706403-e8d8-48f3-836d-b4ea0a4baeb6",
   "metadata": {},
   "source": [
    "12. Write a program to ask the user for their favorite number and double it.\n",
    "o Input: Favorite number.\n",
    "o Output: Double the favorite number."
   ]
  },
  {
   "cell_type": "code",
   "execution_count": 1,
   "id": "6a94b1e4-87d1-492a-af03-35ca5b283a22",
   "metadata": {},
   "outputs": [
    {
     "name": "stdin",
     "output_type": "stream",
     "text": [
      "Enter your favourite number :  11\n"
     ]
    },
    {
     "name": "stdout",
     "output_type": "stream",
     "text": [
      "The favourite number is 11 and double the number is 22.\n"
     ]
    }
   ],
   "source": [
    "fav_num = int(input(\"Enter your favourite number : \"))\n",
    "double = fav_num * 2\n",
    "print(f\"The favourite number is {fav_num} and double the number is {double}.\")"
   ]
  },
  {
   "cell_type": "raw",
   "id": "e5d3937e-31ae-493b-a401-4e0126ea655e",
   "metadata": {},
   "source": [
    "13. Develop a program that accepts a temperature in Celsius and converts it to Fahrenheit.\n",
    "o Input: Temperature in Celsius.\n",
    "o Output: Temperature in Fahrenheit (F = C * 9/5 + 32)."
   ]
  },
  {
   "cell_type": "code",
   "execution_count": 3,
   "id": "bb3f0bf7-1259-4bb5-81b5-2e37392bcc11",
   "metadata": {},
   "outputs": [
    {
     "name": "stdin",
     "output_type": "stream",
     "text": [
      "Enter the temperture in celsius :  27\n"
     ]
    },
    {
     "name": "stdout",
     "output_type": "stream",
     "text": [
      "The temperature in Fahrenheit is 80.6.\n"
     ]
    }
   ],
   "source": [
    "celsius = int(input(\"Enter the temperture in celsius : \"))\n",
    "fahrenheit = celsius * 9/5 + 32\n",
    "print(f\"The temperature in Fahrenheit is {fahrenheit}.\")"
   ]
  },
  {
   "cell_type": "raw",
   "id": "8a1a8e37-adc0-4b5e-bb20-549991e0584f",
   "metadata": {},
   "source": [
    "14. Ask the user to enter a string and a character, and count the number of times the character appears in the string.\n",
    "o Input: A string and a character.\n",
    "o Output: Number of occurrences of the character."
   ]
  },
  {
   "cell_type": "code",
   "execution_count": null,
   "id": "cb69f112-8ad5-4760-ae96-808c40013d95",
   "metadata": {},
   "outputs": [],
   "source": []
  },
  {
   "cell_type": "raw",
   "id": "b13269f6-3e26-4333-bee6-9113547006d7",
   "metadata": {},
   "source": [
    "15. Create a program that takes a number as input and prints its multiplication table up to 10.\n",
    "o Input: A number.\n",
    "o Output: The multiplication table for the number up to 10"
   ]
  },
  {
   "cell_type": "code",
   "execution_count": 29,
   "id": "fdbd40e6-572b-41af-9ae1-bcdc735a2dce",
   "metadata": {},
   "outputs": [
    {
     "name": "stdin",
     "output_type": "stream",
     "text": [
      "Enter a number of your choice :  2\n"
     ]
    },
    {
     "name": "stdout",
     "output_type": "stream",
     "text": [
      "2 x 1 = 2\n",
      "2 x 2 = 4\n",
      "2 x 3 = 6\n",
      "2 x 4 = 8\n",
      "2 x 5 = 10\n",
      "2 x 6 = 12\n",
      "2 x 7 = 14\n",
      "2 x 8 = 16\n",
      "2 x 9 = 18\n",
      "2 x 10 = 20\n"
     ]
    }
   ],
   "source": [
    "num = int(input(\"Enter a number of your choice : \"))\n",
    "for i in range(1,11):\n",
    "    print(f\"{num} x {i} = {num * i}\")"
   ]
  },
  {
   "cell_type": "raw",
   "id": "a83097eb-098b-4b60-8cd4-1f843a2ca731",
   "metadata": {},
   "source": [
    "16. Write a Python program to accept two numbers and determine which one is larger.\n",
    "o Input: Two numbers.\n",
    "o Output: The larger number"
   ]
  },
  {
   "cell_type": "code",
   "execution_count": 5,
   "id": "b66eb90e-5ef2-4df3-9428-524c0c9adbe7",
   "metadata": {},
   "outputs": [
    {
     "name": "stdin",
     "output_type": "stream",
     "text": [
      "Enter 1st number :  45\n",
      "Enter 2nd number :  67\n"
     ]
    },
    {
     "name": "stdout",
     "output_type": "stream",
     "text": [
      "2nd Number is greater 67\n"
     ]
    }
   ],
   "source": [
    "num1 = int(input(\"Enter 1st number : \"))\n",
    "num2 = int(input(\"Enter 2nd number : \"))\n",
    "if num1 == num2:\n",
    "    print(\"Equal\")\n",
    "elif num1 > num2 :\n",
    "    print(\"1st Number is greater\",num1)\n",
    "else:\n",
    "    print(\"2nd Number is greater\",num2)"
   ]
  },
  {
   "cell_type": "raw",
   "id": "3b1dbdd5-fbd1-4c14-8eb5-c81ee21fdec5",
   "metadata": {},
   "source": [
    "17. Develop a program that asks for a list of numbers (comma-separated) and calculates the sum of the numbers.\n",
    "o Input: Comma-separated numbers.\n",
    "o Output: Sum of the numbers."
   ]
  },
  {
   "cell_type": "code",
   "execution_count": 5,
   "id": "1efa2cfb-1d63-4e65-8237-dedccb6e52ad",
   "metadata": {},
   "outputs": [
    {
     "name": "stdin",
     "output_type": "stream",
     "text": [
      "Enter comma-separated numbers:  89,67,43,90\n"
     ]
    },
    {
     "name": "stdout",
     "output_type": "stream",
     "text": [
      "[89, 67, 43, 90]\n",
      "The sum of the numbers is: 289\n"
     ]
    }
   ],
   "source": [
    "num = input(\"Enter comma-separated numbers: \")\n",
    "num_list = num.split(\",\")\n",
    "numbers = [int(x.strip())\n",
    "           for x in num_list]\n",
    "print(numbers)\n",
    "total = sum(numbers)\n",
    "print(\"The sum of the numbers is:\", total)"
   ]
  },
  {
   "cell_type": "raw",
   "id": "016620e4-5de5-45be-b5b2-d5c574e75643",
   "metadata": {},
   "source": [
    "18. Create a program that asks the user for a sentence and counts the number of words in it.\n",
    "o Input: A sentence.\n",
    "o Output: Number of words in the sentence."
   ]
  },
  {
   "cell_type": "code",
   "execution_count": 17,
   "id": "0b7218d5-1a12-46ba-8cc2-98ff4d9bfb13",
   "metadata": {},
   "outputs": [
    {
     "name": "stdin",
     "output_type": "stream",
     "text": [
      "Enter a sentence by your choice : Python is an easy language\n"
     ]
    },
    {
     "name": "stdout",
     "output_type": "stream",
     "text": [
      "['Python', 'is', 'an', 'easy', 'language']\n",
      "The number of words in sentence is 5.\n"
     ]
    }
   ],
   "source": [
    "sentence = input(\"Enter a sentence by your choice :\")\n",
    "words = sentence.split()\n",
    "print(words)\n",
    "word_count = len(words)\n",
    "print(f\"The number of words in sentence is {word_count}.\")"
   ]
  },
  {
   "cell_type": "raw",
   "id": "5aead969-1f35-4084-a4b3-4c69589b5f59",
   "metadata": {},
   "source": [
    "19. Ask the user to input a number and check if it is a prime number or not.\n",
    "o Input: A number.\n",
    "o Output: \"Prime\" or \"Not Prime.\""
   ]
  },
  {
   "cell_type": "code",
   "execution_count": 25,
   "id": "fe832587-e0b9-430b-ba74-cd3d8bf6a019",
   "metadata": {},
   "outputs": [
    {
     "name": "stdin",
     "output_type": "stream",
     "text": [
      "Enter a number :  4\n"
     ]
    },
    {
     "name": "stdout",
     "output_type": "stream",
     "text": [
      "Not Prime\n"
     ]
    }
   ],
   "source": [
    "import math\n",
    "num = int(input(\"Enter a number : \"))            #Prime number can be divided by 1 or itself\n",
    "if num <= 1:\n",
    "    print(\"Not prime Number.\")\n",
    "else:\n",
    "    for i in range(2, int(math.sqrt(num)) + 1):\n",
    "        if num % i == 0:\n",
    "            print(\"Not Prime\")\n",
    "            break\n",
    "    else:\n",
    "        print(\"Prime\")"
   ]
  },
  {
   "cell_type": "raw",
   "id": "5e086994-8110-4b12-8ac2-0086e9a694b4",
   "metadata": {},
   "source": [
    "20. Write a program that takes two strings as input and checks if the first string is a substring of the second.\n",
    "o Input: Two strings.\n",
    "o Output: \"Yes\" if the first string is a substring of the second, else \"No.\""
   ]
  },
  {
   "cell_type": "code",
   "execution_count": 21,
   "id": "5cdf111a-cb14-45fe-9033-b24fc13ada70",
   "metadata": {},
   "outputs": [
    {
     "name": "stdin",
     "output_type": "stream",
     "text": [
      "Enter first string :  cat\n",
      "Enter second string :  category\n"
     ]
    },
    {
     "name": "stdout",
     "output_type": "stream",
     "text": [
      "Yes\n"
     ]
    }
   ],
   "source": [
    "str1 = input(\"Enter first string : \")\n",
    "str2 = input(\"Enter second string : \")\n",
    "if str1 in str2:\n",
    "    print(\"Yes\")\n",
    "else:\n",
    "    print(\"No\")\n"
   ]
  }
 ],
 "metadata": {
  "kernelspec": {
   "display_name": "Python [conda env:base] *",
   "language": "python",
   "name": "conda-base-py"
  },
  "language_info": {
   "codemirror_mode": {
    "name": "ipython",
    "version": 3
   },
   "file_extension": ".py",
   "mimetype": "text/x-python",
   "name": "python",
   "nbconvert_exporter": "python",
   "pygments_lexer": "ipython3",
   "version": "3.12.7"
  }
 },
 "nbformat": 4,
 "nbformat_minor": 5
}
