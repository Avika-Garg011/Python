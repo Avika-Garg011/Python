{
 "cells": [
  {
   "cell_type": "markdown",
   "id": "417e621e-4582-4e08-86a2-273c31502f07",
   "metadata": {},
   "source": [
    "### Basic Indexing and Slicing Questions"
   ]
  },
  {
   "cell_type": "markdown",
   "id": "402a2e0c-d9a0-439e-ad27-ac7467263504",
   "metadata": {},
   "source": [
    "1. Given a list: numbers = [10, 20, 30, 40, 50], extract the element at index 2."
   ]
  },
  {
   "cell_type": "code",
   "execution_count": 78,
   "id": "ee3da3e2-9746-4d78-85f1-c35e1915cd19",
   "metadata": {},
   "outputs": [
    {
     "data": {
      "text/plain": [
       "30"
      ]
     },
     "execution_count": 78,
     "metadata": {},
     "output_type": "execute_result"
    }
   ],
   "source": [
    "numbers = [10, 20, 30, 40, 50]\n",
    "numbers[2]"
   ]
  },
  {
   "cell_type": "markdown",
   "id": "28630b7b-ca02-4d38-a4ed-aa29257b55e1",
   "metadata": {},
   "source": [
    "2. Given a string: text = \"Hello, Python!\", retrieve the last character."
   ]
  },
  {
   "cell_type": "code",
   "execution_count": 10,
   "id": "0914fbb6-4fac-4bbe-a8d5-902ef6b39021",
   "metadata": {},
   "outputs": [
    {
     "data": {
      "text/plain": [
       "'!'"
      ]
     },
     "execution_count": 10,
     "metadata": {},
     "output_type": "execute_result"
    }
   ],
   "source": [
    "text = \"Hello, Python!\"\n",
    "text[-1]"
   ]
  },
  {
   "cell_type": "markdown",
   "id": "343d4a4c-a7c8-4aa4-9e93-0d739ddeabcb",
   "metadata": {},
   "source": [
    "3. Slice the first 3 elements from the list fruits = [\"apple\", \"banana\", \"cherry\", \"date\", \"elderberry\"]."
   ]
  },
  {
   "cell_type": "code",
   "execution_count": 12,
   "id": "5695da3a-20f4-469a-8456-cbf5a7da57c7",
   "metadata": {},
   "outputs": [
    {
     "data": {
      "text/plain": [
       "['apple', 'banana', 'cherry']"
      ]
     },
     "execution_count": 12,
     "metadata": {},
     "output_type": "execute_result"
    }
   ],
   "source": [
    "fruits = [\"apple\", \"banana\", \"cherry\", \"date\", \"elderberry\"]\n",
    "fruits[:3]"
   ]
  },
  {
   "cell_type": "markdown",
   "id": "4fade8f5-263a-4c91-9706-2c54a1e22cf2",
   "metadata": {},
   "source": [
    "4. Extract the substring \"Python\" from the string greeting = \"Welcome to Python Programming!\"."
   ]
  },
  {
   "cell_type": "code",
   "execution_count": 20,
   "id": "7e4ee7ab-0608-4e48-9dbf-1c2bd1bf029b",
   "metadata": {},
   "outputs": [
    {
     "data": {
      "text/plain": [
       "'Python'"
      ]
     },
     "execution_count": 20,
     "metadata": {},
     "output_type": "execute_result"
    }
   ],
   "source": [
    "greeting = \"Welcome to Python Programming!\"\n",
    "greeting[11:17]"
   ]
  },
  {
   "cell_type": "markdown",
   "id": "c66d5426-4800-4031-9880-e01cada03240",
   "metadata": {},
   "source": [
    "5. Using negative indexing, retrieve the second last item from the list colors = [\"red\", \"green\", \"blue\", \"yellow\"]."
   ]
  },
  {
   "cell_type": "code",
   "execution_count": 24,
   "id": "35c0dc6d-a6bb-42af-84f7-45bda02a5413",
   "metadata": {},
   "outputs": [
    {
     "data": {
      "text/plain": [
       "'blue'"
      ]
     },
     "execution_count": 24,
     "metadata": {},
     "output_type": "execute_result"
    }
   ],
   "source": [
    "colors = [\"red\", \"green\", \"blue\", \"yellow\"]\n",
    "colors[-2]"
   ]
  },
  {
   "cell_type": "markdown",
   "id": "0bdeab42-28a6-4c26-9777-56c658ec0341",
   "metadata": {},
   "source": [
    "### Slicing with Steps"
   ]
  },
  {
   "cell_type": "markdown",
   "id": "736e7398-265e-41bd-b255-df3a9df572ed",
   "metadata": {},
   "source": [
    "6. Given a list: numbers = [0, 1, 2, 3, 4, 5, 6, 7, 8, 9], slice every second element starting from index 1."
   ]
  },
  {
   "cell_type": "code",
   "execution_count": 37,
   "id": "5521a845-4e2f-4de0-8692-574f237e55c5",
   "metadata": {},
   "outputs": [
    {
     "data": {
      "text/plain": [
       "[1, 3, 5, 7, 9]"
      ]
     },
     "execution_count": 37,
     "metadata": {},
     "output_type": "execute_result"
    }
   ],
   "source": [
    "numbers = [0, 1, 2, 3, 4, 5, 6, 7, 8, 9]\n",
    "numbers[1::2]"
   ]
  },
  {
   "cell_type": "markdown",
   "id": "c71a6b05-bb93-4a7f-8006-f1ab2ea5f5df",
   "metadata": {},
   "source": [
    "7. Reverse the list nums = [1, 2, 3, 4, 5, 6, 7, 8, 9] using slicing."
   ]
  },
  {
   "cell_type": "code",
   "execution_count": 41,
   "id": "f797c46b-46ac-42c6-95f1-c9e922a56d88",
   "metadata": {},
   "outputs": [
    {
     "data": {
      "text/plain": [
       "[9, 8, 7, 6, 5, 4, 3, 2, 1]"
      ]
     },
     "execution_count": 41,
     "metadata": {},
     "output_type": "execute_result"
    }
   ],
   "source": [
    "nums = [1, 2, 3, 4, 5, 6, 7, 8, 9] \n",
    "nums[::-1]"
   ]
  },
  {
   "cell_type": "markdown",
   "id": "74f4f781-1e38-4566-b85a-87b16faca528",
   "metadata": {},
   "source": [
    "8. Slice every third character in the string phrase = \"abcdefg hijklmn opqrst uvwxyz\"."
   ]
  },
  {
   "cell_type": "code",
   "execution_count": 44,
   "id": "de675764-66a7-4e17-b09f-512ef16dfe5e",
   "metadata": {},
   "outputs": [
    {
     "data": {
      "text/plain": [
       "'adgil qtvy'"
      ]
     },
     "execution_count": 44,
     "metadata": {},
     "output_type": "execute_result"
    }
   ],
   "source": [
    "phrase = \"abcdefg hijklmn opqrst uvwxyz\"\n",
    "phrase[::3]"
   ]
  },
  {
   "cell_type": "markdown",
   "id": "eb4bfe73-f2f2-4fae-aba0-84500e0ab164",
   "metadata": {},
   "source": [
    "9. Extract every second element from the list letters = ['a', 'b', 'c', 'd', 'e', 'f', 'g', 'h'], starting from the end."
   ]
  },
  {
   "cell_type": "code",
   "execution_count": 51,
   "id": "c72574eb-8e2a-4665-aa1a-f4e8336b99cc",
   "metadata": {},
   "outputs": [
    {
     "data": {
      "text/plain": [
       "['h', 'f', 'd', 'b']"
      ]
     },
     "execution_count": 51,
     "metadata": {},
     "output_type": "execute_result"
    }
   ],
   "source": [
    "letters = ['a', 'b', 'c', 'd', 'e', 'f', 'g', 'h']\n",
    "letters[::-2]"
   ]
  },
  {
   "cell_type": "markdown",
   "id": "8737affc-451a-493a-b8be-c8ebd187d74d",
   "metadata": {},
   "source": [
    "10. Slice and print the first 5 elements from the list elements = ['H', 'He', 'Li', 'Be', 'B', 'C', 'N', 'O', 'F'], in reverse order"
   ]
  },
  {
   "cell_type": "code",
   "execution_count": 64,
   "id": "8905923f-b102-4824-8558-47dfb531eff0",
   "metadata": {},
   "outputs": [
    {
     "name": "stdout",
     "output_type": "stream",
     "text": [
      "['B', 'Be', 'Li', 'He', 'H']\n"
     ]
    }
   ],
   "source": [
    "elements = ['H', 'He', 'Li', 'Be', 'B', 'C', 'N', 'O', 'F']\n",
    "items = elements[4::-1]\n",
    "print(items)"
   ]
  },
  {
   "cell_type": "markdown",
   "id": "57dc2708-0a79-4d7e-917b-9682356851fa",
   "metadata": {},
   "source": [
    "### Advanced Slicing Techniques"
   ]
  },
  {
   "cell_type": "markdown",
   "id": "e01aeb04-43df-45c4-afc4-392ef4957bad",
   "metadata": {},
   "source": [
    "11. Extract a sub-list from index 3 to 8 (inclusive) from values = [5, 10, 15, 20, 25, 30, 35, 40, 45, 50]."
   ]
  },
  {
   "cell_type": "code",
   "execution_count": 80,
   "id": "0e060eef-66d1-48d7-9b7f-54eeac5e9869",
   "metadata": {},
   "outputs": [
    {
     "name": "stdout",
     "output_type": "stream",
     "text": [
      "[20, 25, 30, 35, 40, 45]\n"
     ]
    }
   ],
   "source": [
    "values = [5, 10, 15, 20, 25, 30, 35, 40, 45, 50]\n",
    "sub_list = values[3:9]\n",
    "print(sub_list)"
   ]
  },
  {
   "cell_type": "markdown",
   "id": "e973dfdf-465d-442e-b13c-6777db4a210d",
   "metadata": {},
   "source": [
    "12. Given a list: nums = [10, 20, 30, 40, 50, 60, 70, 80], slice out the last three elements."
   ]
  },
  {
   "cell_type": "code",
   "execution_count": 86,
   "id": "54ffab85-f07e-483c-b61c-7e7d43aa9902",
   "metadata": {},
   "outputs": [
    {
     "name": "stdout",
     "output_type": "stream",
     "text": [
      "[60, 70, 80]\n"
     ]
    }
   ],
   "source": [
    "nums = [10, 20, 30, 40, 50, 60, 70, 80]\n",
    "elements = nums[-3:]\n",
    "print(elements)"
   ]
  },
  {
   "cell_type": "markdown",
   "id": "2124c97d-0aa0-4c50-ab9c-bb77bfccdf0d",
   "metadata": {},
   "source": [
    "13. Using slicing, replace every second element with 0 in the list sample = [1, 2, 3, 4, 5, 6, 7, 8, 9, 10]."
   ]
  },
  {
   "cell_type": "code",
   "execution_count": 28,
   "id": "60aab236-318d-429d-9a0b-eb773876cbe6",
   "metadata": {},
   "outputs": [],
   "source": [
    "sample = [1, 2, 3, 4, 5, 6, 7, 8, 9, 10]\n",
    "for i in sample:\n",
    "    "
   ]
  },
  {
   "cell_type": "markdown",
   "id": "1b6bfecb-2395-48eb-a3e3-f5497dca5f38",
   "metadata": {},
   "source": [
    "14. Extract all elements from a list except the first and last one in the list data = [100, 200, 300, 400, 500]."
   ]
  },
  {
   "cell_type": "code",
   "execution_count": 92,
   "id": "4cfcc0a0-7f18-450e-86b4-74d42fe52955",
   "metadata": {},
   "outputs": [
    {
     "data": {
      "text/plain": [
       "[200, 300, 400]"
      ]
     },
     "execution_count": 92,
     "metadata": {},
     "output_type": "execute_result"
    }
   ],
   "source": [
    "data = [100, 200, 300, 400, 500]\n",
    "data[1:4]"
   ]
  },
  {
   "cell_type": "markdown",
   "id": "e664179b-d3dd-4a0e-9e82-ae529ea68745",
   "metadata": {},
   "source": [
    "15. Using slicing, reverse every other character in the string word = \"abcdefghi\"."
   ]
  },
  {
   "cell_type": "code",
   "execution_count": 95,
   "id": "ffff9e2b-feb1-40ba-ab0c-9c4683ecb574",
   "metadata": {},
   "outputs": [
    {
     "data": {
      "text/plain": [
       "'igeca'"
      ]
     },
     "execution_count": 95,
     "metadata": {},
     "output_type": "execute_result"
    }
   ],
   "source": [
    "word = \"abcdefghi\"\n",
    "word[::-2]"
   ]
  },
  {
   "cell_type": "markdown",
   "id": "f5a0003f-7416-42b3-b73b-efaa87bb87f5",
   "metadata": {},
   "source": [
    "### Nested Indexing and Slicing"
   ]
  },
  {
   "cell_type": "markdown",
   "id": "afbd75fa-140c-4ea4-ab1d-b1c73f3dbda5",
   "metadata": {},
   "source": [
    "16. Given a 2D list: matrix = [[1, 2, 3], [4, 5, 6], [7, 8, 9]], extract the element in the third row and second column."
   ]
  },
  {
   "cell_type": "code",
   "execution_count": 112,
   "id": "53b10e72-5916-456c-8f86-6e158afc4551",
   "metadata": {},
   "outputs": [
    {
     "data": {
      "text/plain": [
       "8"
      ]
     },
     "execution_count": 112,
     "metadata": {},
     "output_type": "execute_result"
    }
   ],
   "source": [
    "matrix = [[1, 2, 3], [4, 5, 6], [7, 8, 9]]\n",
    "matrix[2][1]"
   ]
  },
  {
   "cell_type": "markdown",
   "id": "039ffc7d-99a8-4839-9b5e-69c1d7bd1559",
   "metadata": {},
   "source": [
    "17. Using slicing, retrieve the first two columns from each row in data_2d = [[11, 22, 33], [44, 55, 66], [77, 88, 99]]."
   ]
  },
  {
   "cell_type": "code",
   "execution_count": 7,
   "id": "86103fba-85b0-472a-b25a-6fbf55fb3023",
   "metadata": {},
   "outputs": [
    {
     "name": "stdout",
     "output_type": "stream",
     "text": [
      "[11, 22]\n",
      "[44, 55]\n",
      "[77, 88]\n"
     ]
    }
   ],
   "source": [
    "data_2d = [[11, 22, 33], [44, 55, 66], [77, 88, 99]]\n",
    "print(data_2d[0][:2])\n",
    "print(data_2d[1][:2])\n",
    "print(data_2d[2][:2])"
   ]
  },
  {
   "cell_type": "code",
   "execution_count": 9,
   "id": "93dbf566-8d62-44a0-bf6a-0cfe49a96aca",
   "metadata": {},
   "outputs": [
    {
     "name": "stdout",
     "output_type": "stream",
     "text": [
      "[11, 22]\n",
      "[44, 55]\n",
      "[77, 88]\n"
     ]
    }
   ],
   "source": [
    "for i in data_2d:                            # using for loop \n",
    "    print(i[:2])"
   ]
  },
  {
   "cell_type": "markdown",
   "id": "2110b098-ff3e-42f9-a73c-8c06340aa6c0",
   "metadata": {},
   "source": [
    "18. Given a list of strings: words = [\"apple\", \"banana\", \"cherry\", \"date\"], slice each word to only include the first 3 characters."
   ]
  },
  {
   "cell_type": "code",
   "execution_count": 26,
   "id": "54c8050e-1908-46c1-a895-d63ecf250ced",
   "metadata": {},
   "outputs": [
    {
     "name": "stdout",
     "output_type": "stream",
     "text": [
      "['app', 'ban', 'che', 'dat']\n"
     ]
    }
   ],
   "source": [
    "words = [\"apple\", \"banana\", \"cherry\", \"date\"]\n",
    "results = []\n",
    "for i in words:\n",
    "    results.append(i[:3])\n",
    "print(results)"
   ]
  },
  {
   "cell_type": "markdown",
   "id": "ddbc854d-e687-45fe-a89f-49122e813262",
   "metadata": {},
   "source": [
    "19.Using slicing, create a new list of even numbers from numbers = [10, 21, 30, 43, 54, 65, 76, 87, 98]."
   ]
  },
  {
   "cell_type": "code",
   "execution_count": 15,
   "id": "b1ef102e-2869-4d08-a02e-c05ed309ecfd",
   "metadata": {},
   "outputs": [
    {
     "name": "stdout",
     "output_type": "stream",
     "text": [
      "Even List [10, 30, 54, 76, 98]\n"
     ]
    }
   ],
   "source": [
    "even_num = []\n",
    "numbers = [10, 21, 30, 43, 54, 65, 76, 87, 98]\n",
    "for i in numbers:\n",
    "    if i%2 == 0:\n",
    "        even_num.append(i)\n",
    "print(\"Even List\",even_num)"
   ]
  }
 ],
 "metadata": {
  "kernelspec": {
   "display_name": "Python [conda env:base] *",
   "language": "python",
   "name": "conda-base-py"
  },
  "language_info": {
   "codemirror_mode": {
    "name": "ipython",
    "version": 3
   },
   "file_extension": ".py",
   "mimetype": "text/x-python",
   "name": "python",
   "nbconvert_exporter": "python",
   "pygments_lexer": "ipython3",
   "version": "3.12.7"
  }
 },
 "nbformat": 4,
 "nbformat_minor": 5
}
