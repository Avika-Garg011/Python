{
 "cells": [
  {
   "cell_type": "code",
   "execution_count": 5,
   "id": "ba3d59ec-58ef-4d97-b539-568b3aa71e73",
   "metadata": {},
   "outputs": [],
   "source": [
    "import random"
   ]
  },
  {
   "cell_type": "code",
   "execution_count": 41,
   "id": "423c4111-97df-4b6d-861c-70c352a128f4",
   "metadata": {},
   "outputs": [
    {
     "name": "stdout",
     "output_type": "stream",
     "text": [
      "WELCOME TO THE NUMBER GUESSING GAME!!!\n"
     ]
    },
    {
     "name": "stdin",
     "output_type": "stream",
     "text": [
      "Guess the number 3\n"
     ]
    },
    {
     "name": "stdout",
     "output_type": "stream",
     "text": [
      "Congrats🎉!!! You guessed it right.\n"
     ]
    }
   ],
   "source": [
    "num = random.randint(1,10)\n",
    "print(\"WELCOME TO THE NUMBER GUESSING GAME!!!\")\n",
    "guess = int(input(\"Guess the number\"))\n",
    "if guess > num:\n",
    "    print(\"Too High !!! Guess Again.\")\n",
    "elif guess < num:\n",
    "    print(\"Too Low !!! Guess Again.\")\n",
    "else:\n",
    "    print(\"Congrats🎉!!! You guessed it right.\")"
   ]
  }
 ],
 "metadata": {
  "kernelspec": {
   "display_name": "Python [conda env:base] *",
   "language": "python",
   "name": "conda-base-py"
  },
  "language_info": {
   "codemirror_mode": {
    "name": "ipython",
    "version": 3
   },
   "file_extension": ".py",
   "mimetype": "text/x-python",
   "name": "python",
   "nbconvert_exporter": "python",
   "pygments_lexer": "ipython3",
   "version": "3.12.7"
  }
 },
 "nbformat": 4,
 "nbformat_minor": 5
}
